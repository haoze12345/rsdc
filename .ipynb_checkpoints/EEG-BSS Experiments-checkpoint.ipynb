{
 "cells": [
  {
   "cell_type": "code",
   "execution_count": 9,
   "id": "d60815f8",
   "metadata": {},
   "outputs": [],
   "source": [
    "import h5py\n",
    "import numpy as np\n",
    "from scipy.io import loadmat\n",
    "from pyriemann.utils.ajd import ajd_pham, rjd\n",
    "from time import time\n",
    "def check_symmetric(a, rtol=1e-05, atol=1e-08):\n",
    "    return np.allclose(a, a.T, rtol=rtol, atol=atol)"
   ]
  },
  {
   "cell_type": "code",
   "execution_count": 33,
   "id": "f6331349",
   "metadata": {},
   "outputs": [
    {
     "name": "stdout",
     "output_type": "stream",
     "text": [
      "<KeysViewHDF5 ['Channels', 'ElectrodesName', 'EpochClass', 'Fs', 'Trigger']>\n",
      "<HDF5 object reference>\n"
     ]
    }
   ],
   "source": [
    "labels_file = 'EEG_ex.mat'\n",
    "f = h5py.File(labels_file)\n",
    "f_eeg = f['EEG']\n",
    "print(f.keys())\n",
    "frequency = f['Fs'][0][0]\n",
    "eletrodes_names = f['ElectrodesName'][0][0]\n",
    "print(eletrodes_names)"
   ]
  },
  {
   "cell_type": "code",
   "execution_count": null,
   "id": "ec22db62",
   "metadata": {},
   "outputs": [],
   "source": []
  }
 ],
 "metadata": {
  "kernelspec": {
   "display_name": "Python 3 (ipykernel)",
   "language": "python",
   "name": "python3"
  },
  "language_info": {
   "codemirror_mode": {
    "name": "ipython",
    "version": 3
   },
   "file_extension": ".py",
   "mimetype": "text/x-python",
   "name": "python",
   "nbconvert_exporter": "python",
   "pygments_lexer": "ipython3",
   "version": "3.8.2"
  }
 },
 "nbformat": 4,
 "nbformat_minor": 5
}
