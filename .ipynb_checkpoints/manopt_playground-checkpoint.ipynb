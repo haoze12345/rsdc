{
 "cells": [
  {
   "cell_type": "code",
   "execution_count": 12,
   "id": "1981f7f3",
   "metadata": {},
   "outputs": [],
   "source": [
    "import autograd.numpy as anp\n",
    "import pymanopt\n",
    "import pymanopt.manifolds\n",
    "import pymanopt.optimizers\n",
    "import numpy as np\n",
    "\n",
    "def offdiag_frobenius_square(A):\n",
    "    shape = A.shape\n",
    "    identity_3d = np.zeros(shape)\n",
    "    idx = np.arange(shape[1])\n",
    "    identity_3d[:, idx, idx] = 1 \n",
    "    mask = np.array(1 - identity_3d, dtype = np.int0)\n",
    "    offdiag = A * mask\n",
    "    loss = np.sum(np.square(offdiag))\n",
    "    return loss\n",
    "\n",
    "def random_error(AA, eps = 1e-5, norm_type = 2):\n",
    "    n = AA.shape[0]\n",
    "    p = AA.shape[1]\n",
    "    result = []\n",
    "    for A in AA:\n",
    "        E = np.random.normal(0,1,(p,p))\n",
    "        E = (E + E.T) / 2\n",
    "        E = eps * (1/(np.linalg.norm(E,norm_type) *np.sqrt(n))) * E\n",
    "        result.append(((A + E) + (A + E).T) / 2.0)\n",
    "    return anp.array(result)\n",
    "\n",
    "def random_jd_matrices(d = 5, n = 4, orthogonal = False):\n",
    "    diagonals =np.abs(np.random.normal(size=(d, n)))\n",
    "    V = np.random.randn(n, n)\n",
    "    V =  V / np.linalg.norm(V,axis=0)\n",
    "    if orthogonal:\n",
    "        V,_ = np.linalg.qr(V)\n",
    "    C = np.array([V.dot(d[:, None] * V.T) for d in diagonals])\n",
    "    C = np.array([c / np.linalg.norm(c) for c in C])\n",
    "    return C"
   ]
  },
  {
   "cell_type": "code",
   "execution_count": null,
   "id": "67fb6ca9",
   "metadata": {},
   "outputs": [],
   "source": [
    "n, p = 10, 30\n",
    "C = random_jd_matrices(n,p,t)\n",
    "C = random_error(C,0)\n",
    "print(C.shape)"
   ]
  },
  {
   "cell_type": "code",
   "execution_count": 62,
   "id": "71438e7e",
   "metadata": {},
   "outputs": [
    {
     "name": "stdout",
     "output_type": "stream",
     "text": [
      "<module 'mne.datasets.sample' from 'c:\\\\program files\\\\python38\\\\lib\\\\site-packages\\\\mne\\\\datasets\\\\sample\\\\__init__.py'>\n",
      "Opening raw data file C:\\Users\\Haoze He\\mne_data\\MNE-sample-data/MEG/sample/sample_audvis_filt-0-40_raw.fif...\n",
      "    Read a total of 4 projection items:\n",
      "        PCA-v1 (1 x 102)  idle\n",
      "        PCA-v2 (1 x 102)  idle\n",
      "        PCA-v3 (1 x 102)  idle\n",
      "        Average EEG reference (1 x 60)  idle\n",
      "    Range : 6450 ... 48149 =     42.956 ...   320.665 secs\n",
      "Ready.\n",
      "Reading 0 ... 41699  =      0.000 ...   277.709 secs...\n",
      "(100, 40, 40)\n"
     ]
    }
   ],
   "source": [
    "import mne\n",
    "from mne.datasets import sample\n",
    "print(sample)\n",
    "n = 100\n",
    "p = 40\n",
    "data_path = sample.data_path()\n",
    "raw_fname = str(data_path) + '/MEG/sample/sample_audvis_filt-0-40_raw.fif'\n",
    "raw = mne.io.read_raw_fif(raw_fname, preload=True)\n",
    "X = raw.get_data()\n",
    "# Reduce dimension of X by PCA:\n",
    "U, D, V = np.linalg.svd(X, full_matrices=False)\n",
    "X = V[-p:, :]\n",
    "C = np.array([np.dot(x, x.T) for x in np.split(X, n, axis=1)])\n",
    "print(C.shape)\n"
   ]
  },
  {
   "cell_type": "code",
   "execution_count": 4,
   "id": "3bb675b9",
   "metadata": {},
   "outputs": [],
   "source": [
    "manifold = pymanopt.manifolds.Oblique(p,p)\n",
    "def create_cost_and_derivates():\n",
    "\n",
    "    @pymanopt.function.numpy(manifold)\n",
    "    def cost(X):\n",
    "        return offdiag_frobenius_square(X.T@C@X)\n",
    "\n",
    "    @pymanopt.function.numpy(manifold)\n",
    "    def riemannian_gradient(X):\n",
    "        identity_3d = np.zeros(C.shape)\n",
    "        idx = np.arange(C.shape[1])\n",
    "        identity_3d[:, idx, idx] = 1 \n",
    "        mask = np.array(1 - identity_3d, dtype = np.int0)\n",
    "        offdiag = (X.T@C@X) * mask\n",
    "        gradient_matrices = C @ X @ offdiag\n",
    "        euclidean_gradient = 2 * np.sum(gradient_matrices, axis=0)\n",
    "        return euclidean_gradient - X.T@np.diag(np.diag(X.T@euclidean_gradient))\n",
    "    \n",
    "    @pymanopt.function.numpy(manifold)\n",
    "    def euclidean_gradient(X):\n",
    "        identity_3d = np.zeros(C.shape)\n",
    "        idx = np.arange(C.shape[1])\n",
    "        identity_3d[:, idx, idx] = 1 \n",
    "        mask = np.array(1 - identity_3d, dtype = np.int0)\n",
    "        offdiag = (X.T@C@X) * mask\n",
    "        gradient_matrices = C @ X @ offdiag\n",
    "        euclidean_gradient = 2 * np.sum(gradient_matrices, axis=0)\n",
    "        return euclidean_gradient\n",
    "\n",
    "    @pymanopt.function.numpy(manifold)\n",
    "    def euclidean_hessian(X,Z):\n",
    "        identity_3d = np.zeros(C.shape)\n",
    "        idx = np.arange(C.shape[1])\n",
    "        identity_3d[:, idx, idx] = 1 \n",
    "        mask = np.array(1 - identity_3d, dtype = np.int0)\n",
    "        offdiag_XX = 2*np.sum(C@Z@(X.T@C@X) * mask, axis=0)\n",
    "        offdiag_ZX = 2*np.sum(C@X@(Z.T@C@X) * mask, axis=0)\n",
    "        offdiag_XZ = 2*np.sum(C@X@(X.T@C@Z) * mask, axis=0)\n",
    "        return offdiag_XX + offdiag_ZX + offdiag_XZ\n",
    "\n",
    "    return cost, riemannian_gradient, euclidean_gradient, euclidean_hessian"
   ]
  },
  {
   "cell_type": "code",
   "execution_count": 5,
   "id": "898d5a19",
   "metadata": {},
   "outputs": [
    {
     "name": "stdout",
     "output_type": "stream",
     "text": [
      "Optimizing...\n",
      "Terminated - min grad norm reached after 1058 iterations, 0.58 seconds.\n",
      "\n"
     ]
    }
   ],
   "source": [
    "cost, riemannian_gradient, euclidean_gradient, euclidean_hessian = create_cost_and_derivates()\n",
    "\n",
    "problem = pymanopt.Problem(\n",
    "        manifold,\n",
    "        cost,\n",
    "        riemannian_gradient=riemannian_gradient,\n",
    ")\n",
    "\n",
    "optimizer = pymanopt.optimizers.ConjugateGradient(max_iterations=10000,verbosity=1,log_verbosity=1)\n",
    "result = optimizer.run(problem)"
   ]
  },
  {
   "cell_type": "code",
   "execution_count": 10,
   "id": "b80c8db5",
   "metadata": {},
   "outputs": [
    {
     "name": "stdout",
     "output_type": "stream",
     "text": [
      "[1. 1. 1. 1. 1. 1. 1. 1. 1. 1. 1. 1. 1. 1. 1. 1. 1. 1. 1. 1. 1. 1. 1. 1.\n",
      " 1. 1. 1. 1. 1. 1.]\n",
      "21.230189942019674\n"
     ]
    }
   ],
   "source": [
    "print(np.diag(result.point.T@result.point))\n",
    "print(np.linalg.norm(result.point.T@result.point - np.identity(p)))"
   ]
  },
  {
   "cell_type": "code",
   "execution_count": 11,
   "id": "04c4d4c4",
   "metadata": {},
   "outputs": [
    {
     "name": "stdout",
     "output_type": "stream",
     "text": [
      "9.518100976414733e-07\n"
     ]
    }
   ],
   "source": [
    "print(offdiag_frobenius_square(result.point.T@C@result.point))"
   ]
  },
  {
   "cell_type": "code",
   "execution_count": 67,
   "id": "086aad8c",
   "metadata": {},
   "outputs": [
    {
     "data": {
      "text/plain": [
       "[<matplotlib.lines.Line2D at 0x2a589426490>]"
      ]
     },
     "execution_count": 67,
     "metadata": {},
     "output_type": "execute_result"
    },
    {
     "data": {
      "image/png": "[encoded data removed]",
      "text/plain": [
       "<Figure size 432x288 with 1 Axes>"
      ]
     },
     "metadata": {
      "needs_background": "light"
     },
     "output_type": "display_data"
    }
   ],
   "source": [
    "import matplotlib.pyplot as plt\n",
    "plt.semilogy(optimizer._log[\"iterations\"]['iteration'],optimizer._log[\"iterations\"]['cost'])"
   ]
  },
  {
   "cell_type": "code",
   "execution_count": 68,
   "id": "f15d4689",
   "metadata": {},
   "outputs": [
    {
     "data": {
      "text/plain": [
       "[<matplotlib.lines.Line2D at 0x2a5895c27c0>]"
      ]
     },
     "execution_count": 68,
     "metadata": {},
     "output_type": "execute_result"
    },
    {
     "data": {
      "image/png": "[encoded data removed]",
      "text/plain": [
       "<Figure size 432x288 with 1 Axes>"
      ]
     },
     "metadata": {
      "needs_background": "light"
     },
     "output_type": "display_data"
    }
   ],
   "source": [
    "import matplotlib.pyplot as plt\n",
    "plt.semilogy(optimizer._log[\"iterations\"]['iteration'],optimizer._log[\"iterations\"]['gradient_norm'])"
   ]
  },
  {
   "cell_type": "code",
   "execution_count": 69,
   "id": "446fbdff",
   "metadata": {},
   "outputs": [
    {
     "name": "stdout",
     "output_type": "stream",
     "text": [
      "Solved the GEVP in 0.001992940902709961s\n",
      "Error:  0.14751778902878487\n"
     ]
    }
   ],
   "source": [
    "from scipy.linalg.lapack import dsygv,dggev\n",
    "from time import time\n",
    "def runif_in_simplex(AA):\n",
    "    \n",
    "    n = AA.shape[0]\n",
    "    k = np.random.exponential(scale=1.0, size=n)\n",
    "    k /= sum(k)\n",
    "    A_mu = np.einsum('ijk,i->jk',AA, k)\n",
    "    return A_mu\n",
    "\n",
    "def random_combination(AA):\n",
    "    \"\"\"\n",
    "    Diagonlize a random linear combination of an array of matrices\n",
    "    AA: of shape (d,n,n)\n",
    "    d: # of matrices\n",
    "\n",
    "    return: the orthognoal matrix Q\n",
    "    \"\"\"\n",
    "    mu = np.random.normal(0,1,AA.shape[0])\n",
    "    A_mu = np.einsum('ijk,i->jk',AA, mu)\n",
    "    return A_mu\n",
    "start = time()\n",
    "_, _, _, _, X, _, _ = dggev(random_combination(C), np.mean(C,axis=0))\n",
    "X_norm = X / anp.linalg.norm(X,axis=0)\n",
    "print(\"Solved the GEVP in \" + str(time()-start)+'s')\n",
    "print(\"Error: \", offdiag_frobenius_square(X_norm.T@C@X_norm))"
   ]
  },
  {
   "cell_type": "code",
   "execution_count": 70,
   "id": "a35edb48",
   "metadata": {},
   "outputs": [
    {
     "name": "stdout",
     "output_type": "stream",
     "text": [
      "Optimizing...\n",
      "Terminated - min step_size reached after 13 iterations, 0.31 seconds.\n",
      "\n"
     ]
    }
   ],
   "source": [
    "problem = pymanopt.Problem(\n",
    "        manifold,\n",
    "        cost,\n",
    "        riemannian_gradient=riemannian_gradient,\n",
    "        #euclidean_hessian=euclidean_hessian,\n",
    ")\n",
    "\n",
    "\n",
    "optimizer = pymanopt.optimizers.ConjugateGradient(max_iterations=10000,verbosity=1,log_verbosity=1)\n",
    "result = optimizer.run(problem,initial_point=X_norm)"
   ]
  },
  {
   "cell_type": "code",
   "execution_count": 71,
   "id": "fd8af267",
   "metadata": {},
   "outputs": [
    {
     "name": "stdout",
     "output_type": "stream",
     "text": [
      "0.1463039737320821\n"
     ]
    },
    {
     "data": {
      "text/plain": [
       "[<matplotlib.lines.Line2D at 0x2a58965a070>]"
      ]
     },
     "execution_count": 71,
     "metadata": {},
     "output_type": "execute_result"
    },
    {
     "data": {
      "image/png": "[encoded data removed]",
      "text/plain": [
       "<Figure size 432x288 with 1 Axes>"
      ]
     },
     "metadata": {
      "needs_background": "light"
     },
     "output_type": "display_data"
    }
   ],
   "source": [
    "print(offdiag_frobenius_square(result.point.T@C@result.point))\n",
    "import matplotlib.pyplot as plt\n",
    "plt.semilogy(optimizer._log[\"iterations\"]['iteration'],optimizer._log[\"iterations\"]['cost'])"
   ]
  },
  {
   "cell_type": "code",
   "execution_count": 61,
   "id": "79f96334",
   "metadata": {},
   "outputs": [
    {
     "data": {
      "text/plain": [
       "[<matplotlib.lines.Line2D at 0x2a590707c40>]"
      ]
     },
     "execution_count": 61,
     "metadata": {},
     "output_type": "execute_result"
    },
    {
     "data": {
      "image/png": "[encoded data removed]",
      "text/plain": [
       "<Figure size 432x288 with 1 Axes>"
      ]
     },
     "metadata": {
      "needs_background": "light"
     },
     "output_type": "display_data"
    }
   ],
   "source": [
    "import matplotlib.pyplot as plt\n",
    "plt.semilogy(optimizer._log[\"iterations\"]['iteration'],optimizer._log[\"iterations\"]['gradient_norm'])"
   ]
  },
  {
   "cell_type": "code",
   "execution_count": 12,
   "id": "e4d0717e",
   "metadata": {},
   "outputs": [
    {
     "data": {
      "text/plain": [
       "{'max_time': 1000,\n",
       " 'max_iterations': 10000,\n",
       " 'min_gradient_norm': 1e-06,\n",
       " 'min_step_size': 1e-10,\n",
       " 'max_cost_evaluations': 5000}"
      ]
     },
     "execution_count": 12,
     "metadata": {},
     "output_type": "execute_result"
    }
   ],
   "source": [
    "optimizer._log['stopping_criteria']"
   ]
  },
  {
   "cell_type": "code",
   "execution_count": 83,
   "id": "d721f88c",
   "metadata": {},
   "outputs": [
    {
     "name": "stdout",
     "output_type": "stream",
     "text": [
      "2.256497859954834\n"
     ]
    }
   ],
   "source": [
    "from qndiag import qndiag\n",
    "\n",
    "X, infos = qndiag(C, return_B_list=True)\n",
    "X = X / np.linalg.norm(X,axis=0)\n",
    "print(infos['t_list'][-1])"
   ]
  },
  {
   "cell_type": "code",
   "execution_count": 82,
   "id": "c5855486",
   "metadata": {},
   "outputs": [
    {
     "name": "stdout",
     "output_type": "stream",
     "text": [
      "0.2807863392873879\n"
     ]
    }
   ],
   "source": [
    "print(offdiag_frobenius_square(X@C@X.T))"
   ]
  },
  {
   "cell_type": "code",
   "execution_count": null,
   "id": "aa48ede7",
   "metadata": {},
   "outputs": [],
   "source": [
    "import h5py\n",
    "import numpy as np\n",
    "from pyriemann.utils.ajd import ajd_pham, rjd\n",
    "from jd_algorithms import randomized_jd, randomized_jd_deflat, qndiag, rnojd, offdiagonal_frobenius_square\n",
    "from time import time\n",
    "def check_symmetric(a, rtol=1e-05, atol=1e-08):\n",
    "    return np.allclose(a, a.T, rtol=rtol, atol=atol)"
   ]
  }
 ],
 "metadata": {
  "kernelspec": {
   "display_name": "Python 3 (ipykernel)",
   "language": "python",
   "name": "python3"
  },
  "language_info": {
   "codemirror_mode": {
    "name": "ipython",
    "version": 3
   },
   "file_extension": ".py",
   "mimetype": "text/x-python",
   "name": "python",
   "nbconvert_exporter": "python",
   "pygments_lexer": "ipython3",
   "version": "3.8.2"
  }
 },
 "nbformat": 4,
 "nbformat_minor": 5
}
