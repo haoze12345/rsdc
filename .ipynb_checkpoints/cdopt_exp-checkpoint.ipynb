{
 "cells": [
  {
   "cell_type": "code",
   "execution_count": 1,
   "id": "cd7ca8fa",
   "metadata": {},
   "outputs": [],
   "source": [
    "import cdopt \n",
    "import numpy as np\n",
    "import scipy as sp\n",
    "import time\n",
    "\n",
    "def offdiag_frobenius_square(A):\n",
    "    shape = A.shape\n",
    "    identity_3d = np.zeros(shape)\n",
    "    idx = np.arange(shape[1])\n",
    "    identity_3d[:, idx, idx] = 1 \n",
    "    mask = np.array(1 - identity_3d, dtype = np.int0)\n",
    "    offdiag = A * mask\n",
    "    loss = np.sum(np.square(offdiag))\n",
    "    return loss\n",
    "\n",
    "def offdiag_frobenius_square(A):\n",
    "    shape = A.shape\n",
    "    identity_3d = np.zeros(shape)\n",
    "    idx = np.arange(shape[1])\n",
    "    identity_3d[:, idx, idx] = 1 \n",
    "    mask = np.array(1 - identity_3d, dtype = np.int0)\n",
    "    offdiag = A * mask\n",
    "    loss = np.sum(np.square(offdiag))\n",
    "    return loss\n",
    "\n",
    "def random_error(AA, eps = 1e-5, norm_type = 2):\n",
    "    n = AA.shape[0]\n",
    "    p = AA.shape[1]\n",
    "    result = []\n",
    "    for A in AA:\n",
    "        E = np.random.normal(0,1,(p,p))\n",
    "        E = (E + E.T) / 2\n",
    "        E = eps * (1/(np.linalg.norm(E,norm_type) *np.sqrt(n))) * E\n",
    "        result.append(((A + E) + (A + E).T) / 2.0)\n",
    "    return np.array(result)\n",
    "\n",
    "def random_jd_matrices(d = 5, n = 4, orthogonal = False):\n",
    "    diagonals =np.abs(np.random.normal(size=(d, n)))\n",
    "    V = np.random.randn(n, n)\n",
    "    V =  V / np.linalg.norm(V,axis=0)\n",
    "    if orthogonal:\n",
    "        V,_ = np.linalg.qr(V)\n",
    "    C = np.array([V.dot(d[:, None] * V.T) for d in diagonals])\n",
    "    C = np.array([c / np.linalg.norm(c) for c in C])\n",
    "    return C\n"
   ]
  },
  {
   "cell_type": "code",
   "execution_count": 2,
   "id": "5c6d4893",
   "metadata": {},
   "outputs": [
    {
     "name": "stdout",
     "output_type": "stream",
     "text": [
      "(10, 100, 100)\n"
     ]
    }
   ],
   "source": [
    "n, p = 10, 100\n",
    "C = random_jd_matrices(n,p,True)\n",
    "C = random_error(C, 1e-5)\n",
    "print(C.shape)"
   ]
  },
  {
   "cell_type": "code",
   "execution_count": 8,
   "id": "dfe2721e",
   "metadata": {},
   "outputs": [
    {
     "name": "stdout",
     "output_type": "stream",
     "text": [
      "Solver   fval         iter   f_eval   stationarity   feaibility     CPU time\n",
      "& L-BFGS & 2.40e-09  & 14  & 16    & 4.23e-06     & 1.53e-06     & 0.16 \\\\\n",
      "Error:  2.403439513972169e-13\n"
     ]
    }
   ],
   "source": [
    "## Apply limit memory BFGS solver from scipy.minimize \n",
    "from scipy.optimize import fmin_bfgs, fmin_cg, fmin_l_bfgs_b, fmin_ncg\n",
    "from rnojd import cdopt_rnojd\n",
    "t_start = time.time()\n",
    "Xinit = M.m2v(rnojd(C))\n",
    "#Xinit = problem_test.Xinit\n",
    "# optimize by L-BFGS method\n",
    "out_msg = sp.optimize.minimize(cdf_fun_np, Xinit ,method='L-BFGS-B',jac = cdf_grad_np, options={'disp': None, 'maxcor': 10, 'ftol': 0, 'gtol': 1e-06, 'eps': 0e-08,})\n",
    "X_norm = out_msg.x / np.linalg.norm(out_msg.x,axis=0)\n",
    "X_norm = M.v2m(X_norm)\n",
    "t_end = time.time() - t_start\n",
    "\n",
    "# Statistics\n",
    "feas = M.Feas_eval(M.v2m(M.array2tensor(out_msg.x)))   # Feasibility\n",
    "stationarity = np.linalg.norm(out_msg['jac'],2)   # stationarity\n",
    "\n",
    "result_lbfgs = [out_msg['fun'], out_msg['nit'], out_msg['nfev'],stationarity,feas, t_end]\n",
    "\n",
    "# print results\n",
    "print('Solver   fval         iter   f_eval   stationarity   feaibility     CPU time')\n",
    "print('& L-BFGS & {:.2e}  & {:}  & {:}    & {:.2e}     & {:.2e}     & {:.2f} \\\\\\\\'.format(*result_lbfgs))\n",
    "print(\"Error: \", offdiag_frobenius_square(X_norm.T@C@X_norm))"
   ]
  },
  {
   "cell_type": "code",
   "execution_count": 9,
   "id": "c3c8d241",
   "metadata": {},
   "outputs": [
    {
     "name": "stdout",
     "output_type": "stream",
     "text": [
      "Time:  0.27217674255371094\n",
      "Error:  1.9687814414926343e-09\n"
     ]
    }
   ],
   "source": [
    "from haoze_adjc import manopt_rnojd\n",
    "t_start = time.time()\n",
    "X_norm = manopt_rnojd(C).T\n",
    "t_end = time.time() - t_start\n",
    "print(\"Time: \", t_end)\n",
    "print(\"Error: \", offdiag_frobenius_square(X_norm.T@C@X_norm))"
   ]
  },
  {
   "cell_type": "code",
   "execution_count": null,
   "id": "b6510e05",
   "metadata": {},
   "outputs": [],
   "source": []
  },
  {
   "cell_type": "code",
   "execution_count": null,
   "id": "16d83fa5",
   "metadata": {},
   "outputs": [],
   "source": []
  }
 ],
 "metadata": {
  "kernelspec": {
   "display_name": "Python 3 (ipykernel)",
   "language": "python",
   "name": "python3"
  },
  "language_info": {
   "codemirror_mode": {
    "name": "ipython",
    "version": 3
   },
   "file_extension": ".py",
   "mimetype": "text/x-python",
   "name": "python",
   "nbconvert_exporter": "python",
   "pygments_lexer": "ipython3",
   "version": "3.8.2"
  }
 },
 "nbformat": 4,
 "nbformat_minor": 5
}
